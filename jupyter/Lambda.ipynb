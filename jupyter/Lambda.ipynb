{
 "cells": [
  {
   "cell_type": "code",
   "execution_count": 25,
   "id": "8e2da289-e227-4478-bac3-e01b95693473",
   "metadata": {},
   "outputs": [
    {
     "name": "stdout",
     "output_type": "stream",
     "text": [
      "112\n",
      "100\n",
      "1728\n",
      "True\n",
      "[1, 2, 3, 4, 5, 6]\n",
      "[2, 4, 6]\n",
      "1213\n"
     ]
    }
   ],
   "source": [
    "from math import *\n",
    "\n",
    "\n",
    "if __name__ == \"__main__\":\n",
    "    func = lambda x : x ** 2 #(tra ve x ^ 2)\n",
    "    sum = lambda x, y, z, t = 123 : x + y - z + t\n",
    "    print(sum(y = 100, z = 123, x = 12))\n",
    "    print(func(10))\n",
    "    print((lambda x : x ** 3)(12))\n",
    "    check = lambda x, y : x > y\n",
    "    print(check(200, 100))\n",
    "    a = [2, 4, 6, 8, 10, 12]\n",
    "    a = list(map((lambda x : x // 2), a))\n",
    "    b = list(filter((lambda x : x % 2 == 0), a))\n",
    "    print(a)\n",
    "    print(b)\n",
    "    max = lambda x, y : x if x > y else y\n",
    "    print(max(1213, 12))\n",
    "    "
   ]
  },
  {
   "cell_type": "code",
   "execution_count": 22,
   "id": "fc8ada8c-95c3-4fa6-863c-d78ee696ea57",
   "metadata": {},
   "outputs": [
    {
     "name": "stdin",
     "output_type": "stream",
     "text": [
      " 12 21 21 1 221  21 1221\n"
     ]
    },
    {
     "name": "stdout",
     "output_type": "stream",
     "text": [
      "[12, 21, 21, 1, 221, 21, 1221]\n",
      "7\n"
     ]
    }
   ],
   "source": [
    "a = list(map(int, input().split()))\n",
    "print(a)\n",
    "print(len(a))"
   ]
  },
  {
   "cell_type": "code",
   "execution_count": null,
   "id": "6e0ab5c8-768d-4aee-bb42-6b4e18ae86b8",
   "metadata": {},
   "outputs": [],
   "source": []
  }
 ],
 "metadata": {
  "kernelspec": {
   "display_name": "Python 3 (ipykernel)",
   "language": "python",
   "name": "python3"
  },
  "language_info": {
   "codemirror_mode": {
    "name": "ipython",
    "version": 3
   },
   "file_extension": ".py",
   "mimetype": "text/x-python",
   "name": "python",
   "nbconvert_exporter": "python",
   "pygments_lexer": "ipython3",
   "version": "3.13.0"
  }
 },
 "nbformat": 4,
 "nbformat_minor": 5
}
