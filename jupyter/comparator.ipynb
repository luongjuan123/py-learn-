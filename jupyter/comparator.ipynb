{
 "cells": [
  {
   "cell_type": "code",
   "execution_count": 3,
   "id": "156307d0-a578-443f-a167-dcc57603075a",
   "metadata": {},
   "outputs": [
    {
     "name": "stdout",
     "output_type": "stream",
     "text": [
      "[2456, 221, 221, 112, 22, 21, 19, 7, 2, 1]\n"
     ]
    }
   ],
   "source": [
    "from math import *\n",
    "from functools import cmp_to_key\n",
    "\n",
    "\n",
    "\n",
    "# def cmp(a, b):\n",
    "#     if a > b:\n",
    "#         return -1#thứ tự sau khi sắp xếp\n",
    "#     elif a < b:\n",
    "#         return 1\n",
    "#     else:\n",
    "#         return 0\n",
    "def cmp(a, b):\n",
    "    return b - a\n",
    "\n",
    "a = [112, 21, 221, 221, 1, 2, 7, 22, 19, 2456]\n",
    "\n",
    "a.sort(key = cmp_to_key(cmp))\n",
    "print(a)\n"
   ]
  },
  {
   "cell_type": "code",
   "execution_count": null,
   "id": "d2f43324-7d4b-4f61-9715-41318b15c6fa",
   "metadata": {},
   "outputs": [],
   "source": []
  }
 ],
 "metadata": {
  "kernelspec": {
   "display_name": "Python 3 (ipykernel)",
   "language": "python",
   "name": "python3"
  },
  "language_info": {
   "codemirror_mode": {
    "name": "ipython",
    "version": 3
   },
   "file_extension": ".py",
   "mimetype": "text/x-python",
   "name": "python",
   "nbconvert_exporter": "python",
   "pygments_lexer": "ipython3",
   "version": "3.13.0"
  }
 },
 "nbformat": 4,
 "nbformat_minor": 5
}
