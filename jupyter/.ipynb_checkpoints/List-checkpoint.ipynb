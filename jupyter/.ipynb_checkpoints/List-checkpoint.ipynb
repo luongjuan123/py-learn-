{
 "cells": [
  {
   "cell_type": "code",
   "execution_count": 4,
   "id": "3548ab68-908c-409d-97c9-60f01739a63c",
   "metadata": {},
   "outputs": [
    {
     "name": "stdout",
     "output_type": "stream",
     "text": [
      "1 2 3 3 5 6 123 \n",
      "123 6 5 3 3 2 1 ['m', 'o', 'n', 'k', 'e']\n",
      "123 6 5 123 3 3 2 1 123 \n",
      "[123, 123, 3, 3, 2, 1, 123]\n",
      "[123, 6, 5, 3, 3, 2, 1]\n"
     ]
    }
   ],
   "source": [
    "if __name__ == \"__main__\":\n",
    "    a = [1, 2, 3, 123, 5, 6, 3]\n",
    "    a.sort()\n",
    "    for x in a:\n",
    "        print(x, end = \" \")\n",
    "    print()\n",
    "    a = a[::-1]# LAT NGUOC\n",
    "    b = a[:]#copy\n",
    "    \n",
    "    c = sorted(a) #tra ve mot chuoi da sap xep\n",
    "    for i in range(0, len(a)):\n",
    "        print(a[i], end = ' ')\n",
    "    s = 'monke'\n",
    "    tmp = list(s)\n",
    "    print(tmp)\n",
    "    a.append(123) #chen cuoi\n",
    "    a.insert(3, 123) #chen giua\n",
    "    for i in range(0, len(a)):\n",
    "        print(a[i], end = ' ')\n",
    "    a.pop(2) # xoa tai chi so 2, neu khong truyen chi so thi xoa cuoi(a.pop()), no con tra ve phan tu vua xoa\n",
    "    del a[1] # xoa phan tu a[1]\n",
    "    print(\"\\n\", end = \"\")\n",
    "    print(a)\n",
    "    a.remove(3) # xoa thang dau tien co gia tri 3( neu torng list khong co gia tri --> loi)\n",
    "    a.clear() #xoa hoan toan\n",
    "    if \"monke\" in b:\n",
    "        print(\"YES\")\n",
    "    print(b)\n",
    "        \n",
    "    "
   ]
  },
  {
   "cell_type": "code",
   "execution_count": 1,
   "id": "4c7e958d-6317-408c-ad99-85a6d3b9301c",
   "metadata": {},
   "outputs": [],
   "source": [
    "if __name__ == \"__main__\":\n",
    "    a = [1, 2, 3, 4, 5, 6]\n",
    "    b = a[1 : 4 : 1] #slidecing,a[start, stop, step]\n",
    "    for i in range(0, len(a)):\n",
    "        print(a[i], sep = \"\", end = \" \")"
   ]
  },
  {
   "cell_type": "code",
   "execution_count": 10,
   "id": "717d3949-c8fe-4443-9789-270093e25793",
   "metadata": {},
   "outputs": [
    {
     "name": "stdout",
     "output_type": "stream",
     "text": [
      "[1, 2, 3, 4, 5, 6]\n",
      "1 2 3 4 5 6 "
     ]
    }
   ],
   "source": [
    "if __name__ == \"__main__\":\n",
    "    a = [1, 2, 3, 4, 5, 6]\n",
    "    print(a)\n",
    "    b = a[1 : 4 : 1] #slidecing,a[start, stop, step]\n",
    "    for i in range(0, len(a)):\n",
    "        print(a[i], sep = \"\", end = \" \")"
   ]
  },
  {
   "cell_type": "code",
   "execution_count": 9,
   "id": "a0266ce5-5466-4855-88f1-1db5830529bf",
   "metadata": {},
   "outputs": [
    {
     "name": "stdout",
     "output_type": "stream",
     "text": [
      "[1, 2, 3, 4, 5, 6]\n",
      "[2, 3, 4]\n",
      "1 2 3 4 5 6 "
     ]
    }
   ],
   "source": [
    "a = [1, 2, 3, 4, 5, 6]\n",
    "print(a)\n",
    "b = a[1 : 4 : 1] #slidecing,a[start, stop, step]\n",
    "print(b)\n",
    "for i in range(0, len(a)):\n",
    "    print(a[i], sep = \"\", end = \" \")"
   ]
  },
  {
   "cell_type": "code",
   "execution_count": 18,
   "id": "756b6b03-528b-49c5-ae16-5e88c96883a7",
   "metadata": {},
   "outputs": [
    {
     "name": "stdout",
     "output_type": "stream",
     "text": [
      "['J', 'u', 'a', 'n', '1', '2', '3', 'm', 'o', 'n', 'k', 'e']\n",
      "['J', 'u', 'monke', 'juan', '2', '3', 'm', 'o', 'n', 'k', 'e']\n",
      "['a', 'b', 'J', 'u', 'monke', 'juan', '2', '3', 'm', 'o', 'n', 'k', 'e']\n"
     ]
    }
   ],
   "source": [
    "if __name__ == \"__main__\" :\n",
    "    s = \"Juan123monke\"\n",
    "    a = list(s)\n",
    "    print(a)\n",
    "    a[2 : 5] = [\"monke\", \"juan\"]#thay doan trong list bang 1 cai list khac\n",
    "    print(a)\n",
    "    a[:0] = ['a', 'b']#chen nhanh vao dau\n",
    "    print(a)\n",
    "    b = a[:] # tuong tu voi b = a.copy()"
   ]
  },
  {
   "cell_type": "code",
   "execution_count": null,
   "id": "cbb76b84-c19a-4379-989a-0db1a0d2bb2f",
   "metadata": {},
   "outputs": [],
   "source": []
  }
 ],
 "metadata": {
  "kernelspec": {
   "display_name": "Python 3 (ipykernel)",
   "language": "python",
   "name": "python3"
  },
  "language_info": {
   "codemirror_mode": {
    "name": "ipython",
    "version": 3
   },
   "file_extension": ".py",
   "mimetype": "text/x-python",
   "name": "python",
   "nbconvert_exporter": "python",
   "pygments_lexer": "ipython3",
   "version": "3.13.0"
  }
 },
 "nbformat": 4,
 "nbformat_minor": 5
}
