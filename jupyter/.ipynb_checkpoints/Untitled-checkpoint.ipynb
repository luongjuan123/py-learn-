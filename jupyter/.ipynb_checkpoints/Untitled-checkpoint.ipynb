{
 "cells": [
  {
   "cell_type": "code",
   "execution_count": 3,
   "id": "498b9338-fe91-42e4-a766-71931a23264d",
   "metadata": {},
   "outputs": [
    {
     "name": "stdin",
     "output_type": "stream",
     "text": [
      " 7\n"
     ]
    },
    {
     "name": "stdout",
     "output_type": "stream",
     "text": [
      "7^1\n"
     ]
    }
   ],
   "source": [
    "from math import *\n",
    "\n",
    "def nt(n):\n",
    "    for i in range(2, int(sqrt(n)) + 1):\n",
    "        if n % i == 0:\n",
    "            return False\n",
    "    return n > 1\n",
    "def phantic(n):\n",
    "    if nt(n):\n",
    "        print(n, \"^1\", sep = \"\")\n",
    "        return \n",
    "    for i in range(2, int(sqrt(n)) + 1, 1):\n",
    "        m = int(0)\n",
    "        while n % i == 0:\n",
    "            n //= i\n",
    "            m += 1\n",
    "        if  m != 0 and n > 1 :\n",
    "            print(i,'^',m, sep = \"\", end =  \" * \")\n",
    "        elif m != 0:\n",
    "            print(i,'^',m, sep = \"\", end =  \" \")\n",
    "    if n > 1:\n",
    "        print(\" \", n, \"^1\", sep = \"\" )\n",
    "\n",
    "\n",
    "if __name__ == \"__main__\":\n",
    "    n = int(input())\n",
    "    phantic(n)\n",
    "    "
   ]
  },
  {
   "cell_type": "code",
   "execution_count": 5,
   "id": "3f5f213b-b5a1-47be-a027-9e878b4822ca",
   "metadata": {},
   "outputs": [
    {
     "name": "stdout",
     "output_type": "stream",
     "text": [
      "2.18.0\n",
      "GPU available: []\n",
      "tf.Tensor(b'Hello, TensorFlow!', shape=(), dtype=string)\n"
     ]
    }
   ],
   "source": [
    "import tensorflow as tf\n",
    "print(tf.__version__)\n",
    "print(\"GPU available:\", tf.config.list_physical_devices('GPU'))\n",
    "hello = tf.constant(\"Hello, TensorFlow!\")\n",
    "print(hello)"
   ]
  },
  {
   "cell_type": "markdown",
   "id": "7aa6f0ec-4fd7-4e00-b45d-6507c8e6d9b9",
   "metadata": {},
   "source": [
    "###### "
   ]
  }
 ],
 "metadata": {
  "kernelspec": {
   "display_name": "Python 3 (ipykernel)",
   "language": "python",
   "name": "python3"
  },
  "language_info": {
   "codemirror_mode": {
    "name": "ipython",
    "version": 3
   },
   "file_extension": ".py",
   "mimetype": "text/x-python",
   "name": "python",
   "nbconvert_exporter": "python",
   "pygments_lexer": "ipython3",
   "version": "3.12.8"
  }
 },
 "nbformat": 4,
 "nbformat_minor": 5
}
