{
 "cells": [
  {
   "cell_type": "code",
   "execution_count": 146,
   "id": "49c80737-9281-495e-a3ee-95d95ca90cd4",
   "metadata": {},
   "outputs": [
    {
     "name": "stdin",
     "output_type": "stream",
     "text": [
      " 28 3\n"
     ]
    },
    {
     "name": "stdout",
     "output_type": "stream",
     "text": [
      "7\n"
     ]
    }
   ],
   "source": [
    "from math import *\n",
    "\n",
    "def ptich(n, k):\n",
    "    curr = 0\n",
    "    for i in range (2, int(sqrt(n) + 1), 1):\n",
    "        while n % i == 0:\n",
    "            n //= i\n",
    "            curr += 1\n",
    "            if curr == k:\n",
    "                print(i)\n",
    "    if n > 1 :\n",
    "        curr += 1\n",
    "        if curr == k:\n",
    "            print(n)\n",
    "\n",
    "if __name__ == \"__main__\":\n",
    "    n, k = map(int, input().split())\n",
    "    ptich(n, k)\n",
    "    \n",
    "        \n",
    "    "
   ]
  },
  {
   "cell_type": "code",
   "execution_count": null,
   "id": "e20db676-6034-4558-9d72-2bac5422f746",
   "metadata": {},
   "outputs": [],
   "source": []
  }
 ],
 "metadata": {
  "kernelspec": {
   "display_name": "Python 3 (ipykernel)",
   "language": "python",
   "name": "python3"
  },
  "language_info": {
   "codemirror_mode": {
    "name": "ipython",
    "version": 3
   },
   "file_extension": ".py",
   "mimetype": "text/x-python",
   "name": "python",
   "nbconvert_exporter": "python",
   "pygments_lexer": "ipython3",
   "version": "3.13.0"
  }
 },
 "nbformat": 4,
 "nbformat_minor": 5
}
