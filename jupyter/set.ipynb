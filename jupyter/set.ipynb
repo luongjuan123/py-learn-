{
 "cells": [
  {
   "cell_type": "code",
   "execution_count": 6,
   "id": "889fc11f-7024-4bc8-803d-5ce245ec1835",
   "metadata": {},
   "outputs": [
    {
     "name": "stdout",
     "output_type": "stream",
     "text": [
      "{1, 3, 4, 9, 12}\n",
      "{33, 1, 1233112321, 21, 22}\n"
     ]
    }
   ],
   "source": [
    "s = {1, 2, 2, 3, 3, 4, 9, 12}\n",
    "a = [12, 33, 21, 1, 12, 22, 32]\n",
    "s1 = set(a)\n",
    "s1.add(1233112321)\n",
    "s1.pop()\n",
    "s1.remove(12)\n",
    "s.discard(2)\n",
    "print(s)\n",
    "print(s1)"
   ]
  },
  {
   "cell_type": "code",
   "execution_count": 20,
   "id": "f76c0572-6d09-4b31-9f82-bee689768219",
   "metadata": {},
   "outputs": [
    {
     "name": "stdout",
     "output_type": "stream",
     "text": [
      "{1, 2, 5, 7, 11, 14}\n",
      "{2, 4, 7, 9, 11}\n",
      "{1, 2, 4, 5, 7, 9, 11, 14}\n",
      "{1, 2, 4, 5, 7, 9, 11, 14}\n",
      "{2, 11, 7}\n",
      "{2, 11, 7}\n",
      "{1, 5, 14}\n",
      "{1, 5, 14}\n",
      "False\n",
      "False\n",
      "True\n",
      "True\n",
      "True\n"
     ]
    }
   ],
   "source": [
    "s1 = {1, 2, 5, 7, 11, 14}\n",
    "s2 = {2, 9, 4, 2, 7, 11}\n",
    "s3 = {1231213}\n",
    "print(s1, s2, sep = \"\\n\")\n",
    "u = s1.union(s2)\n",
    "print(u)\n",
    "print(s1 | s2)\n",
    "v = s1.intersection(s2)\n",
    "print(v)\n",
    "print(s1 & s2)\n",
    "t = s1.difference(s2)\n",
    "print(t)\n",
    "print(s1 - s2)\n",
    "print(s1.isdisjoint(s2))\n",
    "print(s1.issubset(s2))\n",
    "print(s1.isdisjoint(s3))\n",
    "S = {1, 2, 3, 4, 5, 6, 7, 8}\n",
    "s = {2, 3, 4}\n",
    "print(S.issuperset(s))\n",
    "if 2 in s:\n",
    "    print(\"True\")"
   ]
  },
  {
   "cell_type": "code",
   "execution_count": 24,
   "id": "7c8dc8a4-0299-4346-a5a0-0a03690622a6",
   "metadata": {},
   "outputs": [
    {
     "name": "stdout",
     "output_type": "stream",
     "text": [
      "1.23\n",
      "1.23\n",
      "1.23\n"
     ]
    }
   ],
   "source": [
    "a = 1.231321313\n",
    "print (\"{0:.2f}\".format(a))\n",
    "print (round(a,2)) \n",
    "print ('%.2f'%a) "
   ]
  },
  {
   "cell_type": "code",
   "execution_count": null,
   "id": "7b1437dd-76bb-4a22-bdec-08fb72c8d8e0",
   "metadata": {},
   "outputs": [],
   "source": []
  }
 ],
 "metadata": {
  "kernelspec": {
   "display_name": "Python 3 (ipykernel)",
   "language": "python",
   "name": "python3"
  },
  "language_info": {
   "codemirror_mode": {
    "name": "ipython",
    "version": 3
   },
   "file_extension": ".py",
   "mimetype": "text/x-python",
   "name": "python",
   "nbconvert_exporter": "python",
   "pygments_lexer": "ipython3",
   "version": "3.12.7"
  }
 },
 "nbformat": 4,
 "nbformat_minor": 5
}
