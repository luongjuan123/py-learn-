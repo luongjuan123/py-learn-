{
 "cells": [
  {
   "cell_type": "code",
   "execution_count": 32,
   "id": "49c80737-9281-495e-a3ee-95d95ca90cd4",
   "metadata": {},
   "outputs": [
    {
     "name": "stdin",
     "output_type": "stream",
     "text": [
      " 1 2\n"
     ]
    },
    {
     "name": "stdout",
     "output_type": "stream",
     "text": [
      "-1\n"
     ]
    }
   ],
   "source": [
    "from math import *\n",
    "\n",
    "def check(n):\n",
    "    cnt = 0\n",
    "    tmp = 0\n",
    "    for i in range(2, isqrt(n) + 1, 1):\n",
    "        if n % i == 0:\n",
    "            tmp = i\n",
    "            cnt += 1\n",
    "            if cnt == 3:\n",
    "                return True\n",
    "        while n % i == 0:\n",
    "            n //= i\n",
    "    if n > 1 and n != tmp : \n",
    "        cnt += 1\n",
    "    return cnt >= 3\n",
    "\n",
    "def palin(n):\n",
    "    a = str(n)\n",
    "    b = a[::-1]\n",
    "    return a == b\n",
    "\n",
    "def solve(l, r):\n",
    "    c = False\n",
    "    for i in range(l, r + 1, 1):\n",
    "        if check(i) and palin(i):\n",
    "            c = True\n",
    "            print(i, end = \" \")\n",
    "    if not(c):\n",
    "        print(-1)\n",
    "if __name__ == \"__main__\":\n",
    "    l, r = map(int, input().split())\n",
    "    solve(l, r)\n",
    "    "
   ]
  },
  {
   "cell_type": "code",
   "execution_count": 16,
   "id": "551d6e3e-4488-4ea6-8255-ca389365a75a",
   "metadata": {},
   "outputs": [
    {
     "name": "stdin",
     "output_type": "stream",
     "text": [
      " 200\n"
     ]
    },
    {
     "name": "stdout",
     "output_type": "stream",
     "text": [
      "19 29 59 79 89 109 139 149 179 199\n",
      "10\n"
     ]
    }
   ],
   "source": [
    "def sieve_of_eratosthenes(n):\n",
    "    is_prime = [True] * (n + 1)\n",
    "    is_prime[0] = is_prime[1] = False  # 0 và 1 không phải là số nguyên tố\n",
    "    \n",
    "    for i in range(2, int(n**0.5) + 1):\n",
    "        if is_prime[i]:\n",
    "            for j in range(i * i, n + 1, i):\n",
    "                is_prime[j] = False\n",
    "    \n",
    "    primes = [i for i in range(n + 1) if is_prime[i]]\n",
    "    return primes\n",
    "\n",
    "def solve(n):\n",
    "    primes = sieve_of_eratosthenes(n)\n",
    "    \n",
    "    # Tìm chữ số cuối cùng lớn nhất trong các số nguyên tố\n",
    "    last_digits = [p % 10 for p in primes]\n",
    "    max_last_digit = max(last_digits)\n",
    "    \n",
    "    # Lọc ra các số nguyên tố có chữ số cuối cùng bằng max_last_digit\n",
    "    result = [p for p in primes if p % 10 == max_last_digit]\n",
    "    \n",
    "    # In kết quả\n",
    "    print(\" \".join(map(str, result)))\n",
    "    print(len(result))\n",
    "\n",
    "# Nhập vào giá trị N\n",
    "N = int(input())\n",
    "solve(N)\n"
   ]
  },
  {
   "cell_type": "code",
   "execution_count": null,
   "id": "c616a9f4-79bf-47cc-972e-6bb1a3719482",
   "metadata": {},
   "outputs": [],
   "source": []
  }
 ],
 "metadata": {
  "kernelspec": {
   "display_name": "Python 3 (ipykernel)",
   "language": "python",
   "name": "python3"
  },
  "language_info": {
   "codemirror_mode": {
    "name": "ipython",
    "version": 3
   },
   "file_extension": ".py",
   "mimetype": "text/x-python",
   "name": "python",
   "nbconvert_exporter": "python",
   "pygments_lexer": "ipython3",
   "version": "3.12.8"
  }
 },
 "nbformat": 4,
 "nbformat_minor": 5
}
