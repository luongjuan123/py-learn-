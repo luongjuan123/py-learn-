{
 "cells": [
  {
   "cell_type": "code",
   "execution_count": 1,
   "id": "a6ad40b9-bca5-49b5-ba5d-084a4536b1cf",
   "metadata": {},
   "outputs": [
    {
     "name": "stdout",
     "output_type": "stream",
     "text": [
      "[6, 12, 23, 34, 40]\n"
     ]
    }
   ],
   "source": [
    "a = [12, 24, 46, 68, 80]\n",
    "b = []\n",
    "for x in a:\n",
    "    x //= 2\n",
    "    b.append(x)\n",
    "print(b)"
   ]
  },
  {
   "cell_type": "code",
   "execution_count": 2,
   "id": "707f0edb-28eb-4ef2-9af1-11524845054f",
   "metadata": {},
   "outputs": [
    {
     "name": "stdout",
     "output_type": "stream",
     "text": [
      "[6, 12, 23, 34, 40]\n"
     ]
    }
   ],
   "source": [
    "b = [x // 2 for x in a]\n",
    "print(b)"
   ]
  },
  {
   "cell_type": "code",
   "execution_count": 5,
   "id": "e3607b48-1b0d-4b17-928f-8219815f1b58",
   "metadata": {},
   "outputs": [
    {
     "name": "stdout",
     "output_type": "stream",
     "text": [
      "[0, 1, 4, 9, 16]\n",
      "0 1 4 9 16 "
     ]
    }
   ],
   "source": [
    "b = [x ** 2 for x in range(5)]\n",
    "print(b)\n",
    "for x in b:\n",
    "    print(x, end = \" \")"
   ]
  },
  {
   "cell_type": "code",
   "execution_count": 6,
   "id": "393af863-aefe-42a0-aba4-bc5095eeeca5",
   "metadata": {},
   "outputs": [
    {
     "name": "stdout",
     "output_type": "stream",
     "text": [
      "[7, 6, 8, 10, 7]\n"
     ]
    }
   ],
   "source": [
    "def sumnum(n):\n",
    "    sum = 0\n",
    "    while n > 0:\n",
    "        sum += n % 10\n",
    "        n //= 10\n",
    "    return sum\n",
    "a = [1231, 213, 2132, 12313, 1231]\n",
    "b = [sumnum(x) for x in a]\n",
    "print(b)"
   ]
  },
  {
   "cell_type": "code",
   "execution_count": 8,
   "id": "7981626d-1e27-4cdb-bf3c-a674d2dda57b",
   "metadata": {},
   "outputs": [
    {
     "name": "stdout",
     "output_type": "stream",
     "text": [
      "[23122, 281832, 22, 991221778]\n"
     ]
    }
   ],
   "source": [
    "a = [23122, 22121, 7253, 281832, 828283, 22, 991221778]\n",
    "even = [x for x in a if x % 2 == 0]\n",
    "print(even)"
   ]
  },
  {
   "cell_type": "code",
   "execution_count": 11,
   "id": "c20a79b1-ecfc-4382-9dfe-658824899e94",
   "metadata": {},
   "outputs": [
    {
     "name": "stdout",
     "output_type": "stream",
     "text": [
      "[1, 2, 3, 4, 7, 2, 3, 1, 2, 1, 2, 3, 1, 0, 2]\n"
     ]
    }
   ],
   "source": [
    "a = [[1, 2, 3, 4],[7, 2, 3, 1], [2, 1, 2, 3], [1, 0, 2]]\n",
    "b = [x for small_list in a for x in small_list]\n",
    "print(b)"
   ]
  },
  {
   "cell_type": "code",
   "execution_count": null,
   "id": "32692e61-36b3-4604-897f-6b709718704a",
   "metadata": {},
   "outputs": [],
   "source": []
  }
 ],
 "metadata": {
  "kernelspec": {
   "display_name": "Python 3 (ipykernel)",
   "language": "python",
   "name": "python3"
  },
  "language_info": {
   "codemirror_mode": {
    "name": "ipython",
    "version": 3
   },
   "file_extension": ".py",
   "mimetype": "text/x-python",
   "name": "python",
   "nbconvert_exporter": "python",
   "pygments_lexer": "ipython3",
   "version": "3.13.0"
  }
 },
 "nbformat": 4,
 "nbformat_minor": 5
}
