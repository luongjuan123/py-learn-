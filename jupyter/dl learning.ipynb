{
 "cells": [
  {
   "cell_type": "code",
   "execution_count": 14,
   "id": "713d82ee-e87a-48c3-b6bf-41db8077c7ba",
   "metadata": {},
   "outputs": [
    {
     "name": "stdout",
     "output_type": "stream",
     "text": [
      "(3,)\n",
      "6\n",
      "(2, 4)\n"
     ]
    }
   ],
   "source": [
    "import numpy as np\n",
    "a = np.array([1, 2, 3])\n",
    "b = a.shape # tra ve tuple\n",
    "print(b)\n",
    "c = np.array([[1, 2, 3, 3], [4, 5, 6, 9]])\n",
    "print(c[1, 2])\n",
    "d = c.shape\n",
    "print(d)"
   ]
  },
  {
   "cell_type": "code",
   "execution_count": 34,
   "id": "9d0e44f7-739c-4025-9ced-3ed64e2a7222",
   "metadata": {},
   "outputs": [
    {
     "name": "stdout",
     "output_type": "stream",
     "text": [
      "[0.80351665 0.11360172 0.27711721]\n"
     ]
    },
    {
     "data": {
      "text/plain": [
       "array([[0.64167809, 0.49273731],\n",
       "       [0.50655608, 0.46144026]])"
      ]
     },
     "execution_count": 34,
     "metadata": {},
     "output_type": "execute_result"
    }
   ],
   "source": [
    "a = np.random.random((3))\n",
    "print(a)\n",
    "np.random.random((2, 2))"
   ]
  },
  {
   "cell_type": "code",
   "execution_count": 41,
   "id": "172419da-1c8c-44bf-955c-9d799c02c188",
   "metadata": {},
   "outputs": [
    {
     "name": "stdout",
     "output_type": "stream",
     "text": [
      "[0.15416284 0.7400497  0.26331502]\n"
     ]
    },
    {
     "data": {
      "text/plain": [
       "array([[0.53373939, 0.01457496],\n",
       "       [0.91874701, 0.90071485]])"
      ]
     },
     "execution_count": 41,
     "metadata": {},
     "output_type": "execute_result"
    }
   ],
   "source": [
    "np.random.seed(12) #RANDOM MANG NGAU NHIEN NHUNG CAC PHAN TU KHONG DOI KHI CHAY LAI\n",
    "a = np.random.random((3))\n",
    "print(a)\n",
    "np.random.random((2, 2))"
   ]
  },
  {
   "cell_type": "code",
   "execution_count": null,
   "id": "134ba906-f559-4189-bcdb-c5489f17a27a",
   "metadata": {},
   "outputs": [],
   "source": []
  },
  {
   "cell_type": "code",
   "execution_count": null,
   "id": "717eae17-dcf2-4953-9749-2d4c65328a91",
   "metadata": {},
   "outputs": [],
   "source": []
  }
 ],
 "metadata": {
  "kernelspec": {
   "display_name": "Python 3 (ipykernel)",
   "language": "python",
   "name": "python3"
  },
  "language_info": {
   "codemirror_mode": {
    "name": "ipython",
    "version": 3
   },
   "file_extension": ".py",
   "mimetype": "text/x-python",
   "name": "python",
   "nbconvert_exporter": "python",
   "pygments_lexer": "ipython3",
   "version": "3.12.8"
  }
 },
 "nbformat": 4,
 "nbformat_minor": 5
}
