{
 "cells": [
  {
   "cell_type": "code",
   "execution_count": 1,
   "id": "c63a8181-a012-4f73-8782-12eaa03aefb7",
   "metadata": {},
   "outputs": [
    {
     "name": "stdout",
     "output_type": "stream",
     "text": [
      "Juan doc 123\n",
      "Name: Juan, Job : doc, Salary 123\n",
      "Juan doc 123\n"
     ]
    }
   ],
   "source": [
    "import math as ma\n",
    "import numpy as np\n",
    "import pandas as pd\n",
    "\n",
    "class Person :\n",
    "    #class attribute\n",
    "    nationality = \"Viet Nam\"\n",
    "\n",
    "    #instance attribute\n",
    "    def __init__(self, name, job, salary): #self giong nhu con tro this\n",
    "        self.name = name #public\n",
    "        self._job = job #protected\n",
    "        self.__salary = salary #private\n",
    "    def display(self):\n",
    "        print(self.name, self._job, self.__salary) \n",
    "    def showInfor(self):\n",
    "        print('Name: {}, Job : {}, Salary {}'.format(self.name, self._job, self.__salary))\n",
    "    def __str__(self):\n",
    "        return f'{self.name} {self._job} {self.__salary}'\n",
    "    \n",
    "\n",
    "if __name__ == \"__main__\":\n",
    "    p = Person(\"Juan\", \"doc\", 123)\n",
    "    p.display()\n",
    "    p.showInfor()\n",
    "    print(p)"
   ]
  },
  {
   "cell_type": "code",
   "execution_count": 11,
   "id": "01f93e1e-882c-479a-97b1-3e03c2232a1a",
   "metadata": {},
   "outputs": [
    {
     "name": "stdout",
     "output_type": "stream",
     "text": [
      "8 + 1i\n"
     ]
    }
   ],
   "source": [
    "import math\n",
    "\n",
    "class SoPhuc:\n",
    "    def __init__(self, thuc, ao):\n",
    "        self.thuc = thuc\n",
    "        self.ao = ao\n",
    "    def __add__(self, other):#nap chong dau cong\n",
    "        self.thuc += other.thuc#self se bi thay doi theo\n",
    "        self.ao += other.ao\n",
    "        return SoPhuc(self.thuc, self.ao)\n",
    "    def __sub__(self, other):#nap chong dau -\n",
    "        tmp1 = self.thuc - other.thuc \n",
    "        tmp2 = self.ao - other.ao\n",
    "        return SoPhuc(tmp1, tmp2)\n",
    "    def __mul__(self, other): #nap chong toan tu nhan\n",
    "        tmp1 = self.thuc * other.thuc - self.ao * other.ao\n",
    "        tmp2 = self.thuc * other.ao + self.ao * other.thuc\n",
    "        return SoPhuc(tmp1, tmp2)\n",
    "    def __truediv(self, other): #chia thuc\n",
    "        pass\n",
    "    def __lt__(self, other):#less than\n",
    "        pass\n",
    "    def __le__(self, other):#less than or equal\n",
    "        pass\n",
    "    def __gt__(self, other):#greater than \n",
    "        pass\n",
    "    def __gt__(self, other):#greater than or equal\n",
    "        pass\n",
    "    def __eq__(self, other):#equal\n",
    "        pass\n",
    "    def __ne__(self, otehr):#not equal\n",
    "        pass\n",
    "    def __str__(self):\n",
    "        return f'{self.thuc} + {self.ao}i'\n",
    "\n",
    "if __name__ == '__main__':\n",
    "    a = SoPhuc(1, 2)\n",
    "    b = SoPhuc(2, -3)\n",
    "    print(a * b)\n",
    "    "
   ]
  },
  {
   "cell_type": "code",
   "execution_count": 13,
   "id": "da67d899-da81-4667-a962-03b34003cf6d",
   "metadata": {},
   "outputs": [],
   "source": [
    "class person:\n",
    "    pass\n",
    "class student(person):\n",
    "    pass\n",
    "if __name__ == \"__main__\":\n",
    "    pass"
   ]
  },
  {
   "cell_type": "code",
   "execution_count": 14,
   "id": "7d675ad8-76f1-478e-8a9b-9eb0ab88f8d1",
   "metadata": {},
   "outputs": [
    {
     "name": "stdout",
     "output_type": "stream",
     "text": [
      "--- Manager Info ---\n",
      "Name: Alice, Age: 35\n",
      "Department: HR\n",
      "Bonus: 500.0\n",
      "\n",
      "--- Developer Info ---\n",
      "Name: Bob, Age: 28\n",
      "Programming Language: Python\n",
      "Salary: 3000\n",
      "Updated Salary: 3500\n"
     ]
    }
   ],
   "source": [
    "# Lớp cha (Parent class)\n",
    "class Employee:\n",
    "    def __init__(self, name, age, salary):\n",
    "        self.name = name  # Public attribute\n",
    "        self._age = age   # Protected attribute\n",
    "        self.__salary = salary  # Private attribute\n",
    "    \n",
    "    def display_info(self):\n",
    "        \"\"\"Public method: Hiển thị thông tin nhân viên\"\"\"\n",
    "        print(f\"Name: {self.name}, Age: {self._age}\")\n",
    "    \n",
    "    def _calculate_bonus(self):\n",
    "        \"\"\"Protected method: Tính thưởng (chỉ dùng nội bộ hoặc lớp con)\"\"\"\n",
    "        return self.__salary * 0.1\n",
    "    \n",
    "    def get_salary(self):\n",
    "        \"\"\"Public method: Truy cập vào private attribute __salary\"\"\"\n",
    "        return self.__salary\n",
    "    \n",
    "    def set_salary(self, new_salary):\n",
    "        \"\"\"Public method: Cập nhật lương\"\"\"\n",
    "        if new_salary > 0:\n",
    "            self.__salary = new_salary\n",
    "        else:\n",
    "            print(\"Invalid salary!\")\n",
    "\n",
    "# Lớp con kế thừa từ Employee\n",
    "class Manager(Employee):\n",
    "    def __init__(self, name, age, salary, department):\n",
    "        super().__init__(name, age, salary)\n",
    "        self.department = department  # Public attribute\n",
    "    \n",
    "    def display_info(self):\n",
    "        \"\"\"Ghi đè phương thức display_info() để hiển thị thông tin quản lý\"\"\"\n",
    "        super().display_info()\n",
    "        print(f\"Department: {self.department}\")\n",
    "    \n",
    "    def get_bonus(self):\n",
    "        \"\"\"Truy cập protected method từ lớp cha\"\"\"\n",
    "        return self._calculate_bonus()\n",
    "\n",
    "# Lớp con khác kế thừa từ Employee\n",
    "class Developer(Employee):\n",
    "    def __init__(self, name, age, salary, programming_language):\n",
    "        super().__init__(name, age, salary)\n",
    "        self.programming_language = programming_language  # Public attribute\n",
    "    \n",
    "    def display_info(self):\n",
    "        \"\"\"Ghi đè phương thức display_info()\"\"\"\n",
    "        super().display_info()\n",
    "        print(f\"Programming Language: {self.programming_language}\")\n",
    "\n",
    "# Khởi tạo các đối tượng\n",
    "manager = Manager(\"Alice\", 35, 5000, \"HR\")\n",
    "developer = Developer(\"Bob\", 28, 3000, \"Python\")\n",
    "\n",
    "# Gọi các phương thức\n",
    "print(\"--- Manager Info ---\")\n",
    "manager.display_info()\n",
    "print(\"Bonus:\", manager.get_bonus())\n",
    "\n",
    "print(\"\\n--- Developer Info ---\")\n",
    "developer.display_info()\n",
    "print(\"Salary:\", developer.get_salary())\n",
    "\n",
    "developer.set_salary(3500)\n",
    "print(\"Updated Salary:\", developer.get_salary())\n"
   ]
  },
  {
   "cell_type": "code",
   "execution_count": null,
   "id": "36f713df-7d5c-4a9f-a05d-aa3027e95cfd",
   "metadata": {},
   "outputs": [],
   "source": []
  }
 ],
 "metadata": {
  "kernelspec": {
   "display_name": "Python 3 (ipykernel)",
   "language": "python",
   "name": "python3"
  },
  "language_info": {
   "codemirror_mode": {
    "name": "ipython",
    "version": 3
   },
   "file_extension": ".py",
   "mimetype": "text/x-python",
   "name": "python",
   "nbconvert_exporter": "python",
   "pygments_lexer": "ipython3",
   "version": "3.12.7"
  }
 },
 "nbformat": 4,
 "nbformat_minor": 5
}
