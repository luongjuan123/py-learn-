{
 "cells": [
  {
   "cell_type": "code",
   "execution_count": 2,
   "id": "08f49309-ca83-4194-ad6d-03560919e439",
   "metadata": {},
   "outputs": [
    {
     "name": "stdout",
     "output_type": "stream",
     "text": [
      "{'brand': 'Ford', 'model': 'Mustang', 'year': 1964}\n",
      "Ford\n",
      "{'name': 'Alo', 'w': 123}\n",
      "{'name': 'yamada', 'age': 22, 'address': 'Kyoto'}\n"
     ]
    }
   ],
   "source": [
    "thisdict = {\n",
    "  \"brand\": \"Ford\",\n",
    "  \"model\": \"Mustang\",\n",
    "  \"year\": 1964\n",
    "}\n",
    "print(thisdict)\n",
    "print(thisdict[\"brand\"])\n",
    "monke = dict(name = \"Alo\", w = 123)\n",
    "print(monke)\n",
    "a = [\"name\", \"age\", \"address\"]\n",
    "b = [\"yamada\", 22, \"Kyoto\"]\n",
    "P = dict(zip(a, b))\n",
    "print(P)"
   ]
  },
  {
   "cell_type": "code",
   "execution_count": null,
   "id": "aad03751-6473-4a0f-89f1-ca2b7db86358",
   "metadata": {},
   "outputs": [],
   "source": []
  }
 ],
 "metadata": {
  "kernelspec": {
   "display_name": "Python 3 (ipykernel)",
   "language": "python",
   "name": "python3"
  },
  "language_info": {
   "codemirror_mode": {
    "name": "ipython",
    "version": 3
   },
   "file_extension": ".py",
   "mimetype": "text/x-python",
   "name": "python",
   "nbconvert_exporter": "python",
   "pygments_lexer": "ipython3",
   "version": "3.13.0"
  }
 },
 "nbformat": 4,
 "nbformat_minor": 5
}
